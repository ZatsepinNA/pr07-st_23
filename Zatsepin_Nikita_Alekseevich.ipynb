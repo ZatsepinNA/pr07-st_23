{
 "cells": [
  {
   "cell_type": "markdown",
   "id": "af5ad01d",
   "metadata": {},
   "source": [
    "# Выполнение индивидуальных заданий по практической работе №7. Вариант 21 #"
   ]
  },
  {
   "cell_type": "markdown",
   "id": "dbbd4a93",
   "metadata": {},
   "source": [
    "Создание необходимых таблиц в соответствии с ER диаграммой и заполнение таблиц данными"
   ]
  },
  {
   "cell_type": "code",
   "execution_count": 1,
   "id": "365e6b7d",
   "metadata": {},
   "outputs": [
    {
     "name": "stdout",
     "output_type": "stream",
     "text": [
      "Requirement already satisfied: psycopg2 in c:\\users\\user\\appdata\\local\\packages\\pythonsoftwarefoundation.python.3.11_qbz5n2kfra8p0\\localcache\\local-packages\\python311\\site-packages (2.9.10)\n"
     ]
    },
    {
     "name": "stderr",
     "output_type": "stream",
     "text": [
      "\n",
      "[notice] A new release of pip is available: 24.0 -> 25.0.1\n",
      "[notice] To update, run: C:\\Users\\User\\AppData\\Local\\Microsoft\\WindowsApps\\PythonSoftwareFoundation.Python.3.11_qbz5n2kfra8p0\\python.exe -m pip install --upgrade pip\n"
     ]
    }
   ],
   "source": [
    "!pip install psycopg2"
   ]
  },
  {
   "cell_type": "code",
   "execution_count": 2,
   "id": "56074fca",
   "metadata": {},
   "outputs": [],
   "source": [
    "import psycopg2\n",
    "from psycopg2 import Error"
   ]
  },
  {
   "cell_type": "code",
   "execution_count": 17,
   "id": "5ecb728b",
   "metadata": {},
   "outputs": [
    {
     "name": "stdout",
     "output_type": "stream",
     "text": [
      "База данных super_medical создана\n",
      "Соединение с БД закрыто\n",
      "Таблица hospital создана и заполнена данными\n",
      "Таблица doctor создана и заполнена данными\n",
      "Соединение с БД закрыто\n"
     ]
    }
   ],
   "source": [
    "import psycopg2\n",
    "\n",
    "def get_connection(privSev):\n",
    "    return psycopg2.connect(\n",
    "        user=\"postgres\",\n",
    "        password=\"nekit\", \n",
    "        host=\"localhost\",\n",
    "        port=\"5432\",\n",
    "        database=privSev\n",
    "    )\n",
    "def close_connection(connection):\n",
    "    if connection:\n",
    "        connection.close()\n",
    "        print(\"Соединение с БД закрыто\")\n",
    "def create_database_tables():\n",
    "    try: \n",
    "        connection = psycopg2.connect(\n",
    "            user=\"postgres\",\n",
    "            password=\"nekit\", \n",
    "            host=\"localhost\",\n",
    "            port=\"5432\",\n",
    "            database=\"privSev\"\n",
    "        )\n",
    "        connection.autocommit = True\n",
    "        cursor = connection.cursor()\n",
    "        cursor.execute(\"CREATE DATABASE super_medical;\")\n",
    "        print(\"База данных super_medical создана\")\n",
    "        close_connection(connection)\n",
    "        connection = get_connection(\"super_medical\")\n",
    "        cursor = connection.cursor()\n",
    "        cursor.execute(\"\"\"\n",
    "            CREATE TABLE hospital (\n",
    "                hospital_id INT PRIMARY KEY,\n",
    "                hospital_name VARCHAR(100) NOT NULL,\n",
    "                bed_count INT\n",
    "            );\n",
    "        \"\"\")\n",
    "        cursor.execute(\"\"\"\n",
    "            INSERT INTO hospital (hospital_id, hospital_name, bed_count)\n",
    "            VALUES\n",
    "                (1, 'Mayo Clinic', 200),\n",
    "                (2, 'Cleveland Clinic', 400),\n",
    "                (3, 'Johns Hopkins', 1000),\n",
    "                (4, 'UCLA Medical Center', 1500);\n",
    "        \"\"\")\n",
    "        connection.commit()\n",
    "        print(\"Таблица hospital создана и заполнена данными\")\n",
    "        cursor.execute(\"\"\"\n",
    "            CREATE TABLE doctor (\n",
    "                doctor_id INT PRIMARY KEY,\n",
    "                doctor_name VARCHAR(100) NOT NULL,\n",
    "                hospital_id INT NOT NULL,\n",
    "                FOREIGN KEY (hospital_id) REFERENCES hospital(hospital_id),\n",
    "                joining_date DATE NOT NULL,\n",
    "                speciality VARCHAR(100) NOT NULL,\n",
    "                salary INT NOT NULL,\n",
    "                experience INT\n",
    "            );\n",
    "        \"\"\")\n",
    "        cursor.execute(\"\"\"\n",
    "            INSERT INTO doctor (doctor_id, doctor_name, hospital_id, joining_date, speciality, salary, experience)\n",
    "            VALUES\n",
    "                (101, 'David', 1, '2005-02-10', 'Pediatric', 40000, NULL),\n",
    "                (102, 'Michael', 1, '2018-07-23', 'Oncologist', 20000, NULL),\n",
    "                (103, 'Susan', 2, '2016-05-19', 'Gynecologist', 25000, NULL),\n",
    "                (104, 'Robert', 2, '2017-12-28', 'Pediatric', 28000, NULL),\n",
    "                (105, 'Linda', 3, '2004-06-04', 'Gynecologist', 42000, NULL),\n",
    "                (106, 'William', 3, '2012-09-11', 'Dermatologist', 30000, NULL),\n",
    "                (107, 'Richard', 4, '2014-08-21', 'Gynecologist', 32000, NULL),\n",
    "                (108, 'Karen', 4, '2011-10-17', 'Radiologist', 30000, NULL),\n",
    "                (109, 'James', 1, '2022-01-15', 'Cardiologist', 45000, 5),\n",
    "                (110, 'Emily', 1, '2023-04-10', 'Orthopedic Surgeon', 50000, 3),\n",
    "                (111, 'Olivia', 2, '2021-09-05', 'Neurologist', 42000, 4),\n",
    "                (112, 'John', 2, '2024-02-18', 'Surgeon', 60000, 2),\n",
    "                (113, 'Sophia', 3, '2022-07-30', 'Urologist', 38000, 6),\n",
    "                (114, 'Daniel', 3, '2025-03-22', 'Pulmonologist', 47000, 1),\n",
    "                (115, 'Isabella', 4, '2023-11-01', 'Pediatrician', 41000, 3),\n",
    "                (116, 'Liam', 4, '2022-05-25', 'Dermatologist', 35000, 4),\n",
    "                (117, 'Mia', 1, '2024-06-17', 'Gastroenterologist', 53000, 2),\n",
    "                (118, 'Lucas', 2, '2023-01-12', 'Anesthesiologist', 46000, 3);\n",
    "        \"\"\")\n",
    "        connection.commit()\n",
    "        print(\"Таблица doctor создана и заполнена данными\")\n",
    "\n",
    "    except (Exception, psycopg2.Error) as error:\n",
    "        print(\"Ошибка при работе с БД:\", error)\n",
    "    finally:\n",
    "        if 'connection' in locals():\n",
    "            close_connection(connection)\n",
    "create_database_tables()"
   ]
  },
  {
   "cell_type": "markdown",
   "id": "051e97dc",
   "metadata": {},
   "source": [
    "## Индвидуальное задание №1, №2. Создайте таблицу \"Patients_Visit\" с полями \"VISIT_ID\", \"PATIENT_ID\", \"DOCTOR_ID\". Вставьте 5 визитов пациентов к врачам. ##"
   ]
  },
  {
   "cell_type": "markdown",
   "id": "a96284b5",
   "metadata": {},
   "source": [
    "Для выполнения данного задания создадим таблицу patients, в соответствии с представленной ER диаграммой. \n"
   ]
  },
  {
   "cell_type": "markdown",
   "id": "0cbb38ec",
   "metadata": {},
   "source": [
    "Таблица patients_visit помимо указанных полей также будет содержать \"date_of_visit\" и \"diagnosis\". "
   ]
  },
  {
   "cell_type": "code",
   "execution_count": 29,
   "id": "4ec8e880",
   "metadata": {},
   "outputs": [
    {
     "name": "stdout",
     "output_type": "stream",
     "text": [
      "Подключено\n",
      "Таблицы созданы и заполнены данными\n",
      "Соединение с БД закрыто\n"
     ]
    }
   ],
   "source": [
    "import psycopg2\n",
    "from datetime import date\n",
    "\n",
    "def get_connection(db_name):\n",
    "    return psycopg2.connect(\n",
    "        user=\"postgres\",\n",
    "        password=\"nekit\", \n",
    "        host=\"localhost\",\n",
    "        port=\"5432\",\n",
    "        database=\"super_medical\"\n",
    "    )\n",
    "\n",
    "def close_connection(connection):\n",
    "    if connection:\n",
    "        connection.close()\n",
    "        print(\"Соединение с БД закрыто\")\n",
    "\n",
    "def create_tables():\n",
    "    try:\n",
    "        connection = get_connection(\"super_medical\")\n",
    "        print(\"Подключено\")\n",
    "        connection.autocommit = True\n",
    "        cursor = connection.cursor()\n",
    "        cursor.execute(\"DROP TABLE IF EXISTS patients_visit CASCADE;\")\n",
    "        cursor.execute(\"DROP TABLE IF EXISTS patients CASCADE;\")\n",
    "        cursor.execute(\"\"\"\n",
    "            CREATE TABLE patients (\n",
    "                patient_id INT PRIMARY KEY,\n",
    "                patient_name VARCHAR(50),\n",
    "                birth_date DATE,\n",
    "                sex VARCHAR(2)\n",
    "            );\n",
    "        \"\"\")\n",
    "        cursor.execute(\"\"\"\n",
    "            CREATE TABLE patients_visit (\n",
    "                visit_id SERIAL PRIMARY KEY,\n",
    "                patient_id INT,\n",
    "                doctor_id INT,\n",
    "                date_of_visit DATE,\n",
    "                diagnosis VARCHAR(200),\n",
    "                FOREIGN KEY (patient_id) REFERENCES patients(patient_id)\n",
    "            );\n",
    "        \"\"\")\n",
    "        cursor.execute(\"\"\"\n",
    "            ALTER TABLE patients\n",
    "            ADD COLUMN visit_id INT;\n",
    "        \"\"\")\n",
    "        cursor.execute(\"\"\"\n",
    "            INSERT INTO patients (patient_id, patient_name, birth_date, sex, visit_id)\n",
    "            VALUES\n",
    "                (1, 'Ivanov Ivan', '1985-05-15', 'M', 1),\n",
    "                (2, 'Anna Petrova', '1987-06-10', 'W', 2),\n",
    "                (3, 'Aleksey Sidorov', '1990-01-01', 'M', 3),\n",
    "                (4, 'Elena Kuznetsova', '1988-04-08', 'W', 4),\n",
    "                (5, 'Denis Smirnov', '1993-09-03', 'M', 5);\n",
    "        \"\"\")\n",
    "        cursor.execute(\"\"\"\n",
    "            INSERT INTO patients_visit (visit_id, patient_id, doctor_id, date_of_visit, diagnosis)\n",
    "            VALUES\n",
    "                (1, 1, 101, '2024-03-03', 'Flu'),\n",
    "                (2, 2, 103, '2024-04-04', 'Angina'),\n",
    "                (3, 3, 106, '2024-05-05', 'Acne'),\n",
    "                (4, 4, 109, '2024-06-06', 'Arrhythmia'),\n",
    "                (5, 5, 101, '2024-07-07', 'Gastritis');\n",
    "        \"\"\")\n",
    "        \n",
    "        connection.commit()\n",
    "        print(\"Таблицы созданы и заполнены данными\")\n",
    "        \n",
    "    except (Exception, psycopg2.Error) as error:\n",
    "        print(\"Ошибка при работе с БД:\", error)\n",
    "    finally:\n",
    "        if 'connection' in locals():\n",
    "            close_connection(connection)\n",
    "if __name__ == \"__main__\":\n",
    "    create_tables()\n",
    "    "
   ]
  },
  {
   "cell_type": "markdown",
   "id": "b2b135c4",
   "metadata": {},
   "source": [
    "## Индивидуальное задание №3. Выполните запрос для получения визитов пациента с ID=4. ##"
   ]
  },
  {
   "cell_type": "code",
   "execution_count": 32,
   "id": "6917d09a",
   "metadata": {},
   "outputs": [
    {
     "name": "stdout",
     "output_type": "stream",
     "text": [
      "(4, 4, 'Arrhythmia')\n"
     ]
    }
   ],
   "source": [
    "import psycopg2\n",
    "def search():\n",
    "    try: \n",
    "        connection = psycopg2.connect(\n",
    "            user=\"postgres\",\n",
    "            password=\"nekit\", \n",
    "            host=\"localhost\",\n",
    "            port=\"5432\",\n",
    "            database=\"super_medical\"\n",
    "        )\n",
    "        cursor = connection.cursor()\n",
    "        \n",
    "        cursor.execute('''\n",
    "            SELECT visit_id, patient_id, diagnosis \n",
    "            FROM patients_visit \n",
    "            WHERE patient_id = 4\n",
    "        ''')\n",
    "        \n",
    "        for row in cursor:\n",
    "            print(row)\n",
    "            \n",
    "    except (Exception, psycopg2.Error) as error:\n",
    "        print(\"Ошибка:\", error)\n",
    "    finally:\n",
    "        if 'connection' in locals():\n",
    "            connection.close()\n",
    "\n",
    "search()\n",
    "      \n",
    "    "
   ]
  },
  {
   "cell_type": "markdown",
   "id": "b0b091de",
   "metadata": {},
   "source": [
    "## Индвидуальное задание №4. Обновите информацию о визите пациента с ID=3. ##"
   ]
  },
  {
   "cell_type": "code",
   "execution_count": 35,
   "id": "cce6a90a",
   "metadata": {},
   "outputs": [
    {
     "name": "stdout",
     "output_type": "stream",
     "text": [
      "Изначальная информация о визите: \n",
      "(3, 3, 106, datetime.date(2024, 5, 5), 'Acne')\n",
      "Обновленная информация: \n",
      "(3, 3, 106, datetime.date(2024, 5, 5), 'flu')\n"
     ]
    }
   ],
   "source": [
    "import psycopg2\n",
    "from datetime import date\n",
    "def search():\n",
    "    try: \n",
    "        connection = psycopg2.connect(\n",
    "            user=\"postgres\",\n",
    "            password=\"nekit\", \n",
    "            host=\"localhost\",\n",
    "            port=\"5432\",\n",
    "            database=\"super_medical\"\n",
    "        )\n",
    "        cursor = connection.cursor()\n",
    "        cursor.execute('''\n",
    "            SELECT * \n",
    "            FROM patients_visit\n",
    "            WHERE patient_id =3\n",
    "        ''')\n",
    "        print(\"Изначальная информация о визите: \")\n",
    "        for row in cursor:\n",
    "            print(row)\n",
    "        cursor.execute(\n",
    "            '''UPDATE patients_visit \n",
    "             SET diagnosis = 'flu' \n",
    "             WHERE patient_id = 3\n",
    "             '''\n",
    "        )\n",
    "        connection.commit()\n",
    "        cursor.execute('''\n",
    "            SELECT * \n",
    "            FROM patients_visit\n",
    "            WHERE patient_id =3\n",
    "        ''')\n",
    "        print(\"Обновленная информация: \")\n",
    "        for row in cursor:\n",
    "            print(row)\n",
    "    except (Exception, psycopg2.Error) as error:\n",
    "        print(\"Ошибка:\", error)\n",
    "    finally:\n",
    "        if 'connection' in locals():\n",
    "            connection.close()\n",
    "\n",
    "search()"
   ]
  },
  {
   "cell_type": "markdown",
   "id": "9e59764e",
   "metadata": {},
   "source": [
    "## Индивидуальное задание №5. Постройте столбчатую диаграмму для анализа визитов пациентов. ## "
   ]
  },
  {
   "cell_type": "code",
   "execution_count": 37,
   "id": "6022ca75",
   "metadata": {},
   "outputs": [
    {
     "name": "stdout",
     "output_type": "stream",
     "text": [
      "Collecting matplotlib\n",
      "  Downloading matplotlib-3.10.1-cp311-cp311-win_amd64.whl.metadata (11 kB)\n",
      "Collecting contourpy>=1.0.1 (from matplotlib)\n",
      "  Downloading contourpy-1.3.2-cp311-cp311-win_amd64.whl.metadata (5.5 kB)\n",
      "Collecting cycler>=0.10 (from matplotlib)\n",
      "  Downloading cycler-0.12.1-py3-none-any.whl.metadata (3.8 kB)\n",
      "Collecting fonttools>=4.22.0 (from matplotlib)\n",
      "  Downloading fonttools-4.57.0-cp311-cp311-win_amd64.whl.metadata (104 kB)\n",
      "     ---------------------------------------- 0.0/104.6 kB ? eta -:--:--\n",
      "     ---------- -------------------------- 30.7/104.6 kB 660.6 kB/s eta 0:00:01\n",
      "     ------------------------- ----------- 71.7/104.6 kB 991.0 kB/s eta 0:00:01\n",
      "     -------------------------------------- 104.6/104.6 kB 1.2 MB/s eta 0:00:00\n",
      "Collecting kiwisolver>=1.3.1 (from matplotlib)\n",
      "  Downloading kiwisolver-1.4.8-cp311-cp311-win_amd64.whl.metadata (6.3 kB)\n",
      "Collecting numpy>=1.23 (from matplotlib)\n",
      "  Downloading numpy-2.2.5-cp311-cp311-win_amd64.whl.metadata (60 kB)\n",
      "     ---------------------------------------- 0.0/60.8 kB ? eta -:--:--\n",
      "     ---------------------------------------- 60.8/60.8 kB ? eta 0:00:00\n",
      "Requirement already satisfied: packaging>=20.0 in c:\\users\\user\\appdata\\local\\packages\\pythonsoftwarefoundation.python.3.11_qbz5n2kfra8p0\\localcache\\local-packages\\python311\\site-packages (from matplotlib) (25.0)\n",
      "Collecting pillow>=8 (from matplotlib)\n",
      "  Downloading pillow-11.2.1-cp311-cp311-win_amd64.whl.metadata (9.1 kB)\n",
      "Collecting pyparsing>=2.3.1 (from matplotlib)\n",
      "  Downloading pyparsing-3.2.3-py3-none-any.whl.metadata (5.0 kB)\n",
      "Requirement already satisfied: python-dateutil>=2.7 in c:\\users\\user\\appdata\\local\\packages\\pythonsoftwarefoundation.python.3.11_qbz5n2kfra8p0\\localcache\\local-packages\\python311\\site-packages (from matplotlib) (2.9.0.post0)\n",
      "Requirement already satisfied: six>=1.5 in c:\\users\\user\\appdata\\local\\packages\\pythonsoftwarefoundation.python.3.11_qbz5n2kfra8p0\\localcache\\local-packages\\python311\\site-packages (from python-dateutil>=2.7->matplotlib) (1.17.0)\n",
      "Downloading matplotlib-3.10.1-cp311-cp311-win_amd64.whl (8.1 MB)\n",
      "   ---------------------------------------- 0.0/8.1 MB ? eta -:--:--\n",
      "    --------------------------------------- 0.1/8.1 MB 8.3 MB/s eta 0:00:01\n",
      "   -- ------------------------------------- 0.5/8.1 MB 4.8 MB/s eta 0:00:02\n",
      "   ---- ----------------------------------- 1.0/8.1 MB 6.9 MB/s eta 0:00:02\n",
      "   --------- ------------------------------ 1.9/8.1 MB 11.3 MB/s eta 0:00:01\n",
      "   ------------------ --------------------- 3.8/8.1 MB 17.1 MB/s eta 0:00:01\n",
      "   ----------------------- ---------------- 4.8/8.1 MB 19.2 MB/s eta 0:00:01\n",
      "   ------------------------------ --------- 6.1/8.1 MB 22.8 MB/s eta 0:00:01\n",
      "   --------------------------------- ------ 6.9/8.1 MB 20.8 MB/s eta 0:00:01\n",
      "   ------------------------------------ --- 7.4/8.1 MB 19.7 MB/s eta 0:00:01\n",
      "   ---------------------------------------  7.9/8.1 MB 18.8 MB/s eta 0:00:01\n",
      "   ---------------------------------------  8.1/8.1 MB 17.7 MB/s eta 0:00:01\n",
      "   ---------------------------------------- 8.1/8.1 MB 17.2 MB/s eta 0:00:00\n",
      "Downloading contourpy-1.3.2-cp311-cp311-win_amd64.whl (222 kB)\n",
      "   ---------------------------------------- 0.0/222.0 kB ? eta -:--:--\n",
      "   ---------------------------------------- 222.0/222.0 kB ? eta 0:00:00\n",
      "Downloading cycler-0.12.1-py3-none-any.whl (8.3 kB)\n",
      "Downloading fonttools-4.57.0-cp311-cp311-win_amd64.whl (2.2 MB)\n",
      "   ---------------------------------------- 0.0/2.2 MB ? eta -:--:--\n",
      "   ---------------------------------------  2.2/2.2 MB 70.7 MB/s eta 0:00:01\n",
      "   ---------------------------------------- 2.2/2.2 MB 70.8 MB/s eta 0:00:00\n",
      "Downloading kiwisolver-1.4.8-cp311-cp311-win_amd64.whl (71 kB)\n",
      "   ---------------------------------------- 0.0/72.0 kB ? eta -:--:--\n",
      "   ---------------------------------------- 72.0/72.0 kB ? eta 0:00:00\n",
      "Downloading numpy-2.2.5-cp311-cp311-win_amd64.whl (12.9 MB)\n",
      "   ---------------------------------------- 0.0/12.9 MB ? eta -:--:--\n",
      "   -------- ------------------------------- 2.9/12.9 MB 89.9 MB/s eta 0:00:01\n",
      "   ------------------ --------------------- 6.0/12.9 MB 76.4 MB/s eta 0:00:01\n",
      "   --------------------------- ------------ 8.9/12.9 MB 80.5 MB/s eta 0:00:01\n",
      "   ------------------------------------ --- 11.9/12.9 MB 72.6 MB/s eta 0:00:01\n",
      "   ---------------------------------------  12.9/12.9 MB 73.1 MB/s eta 0:00:01\n",
      "   ---------------------------------------- 12.9/12.9 MB 59.8 MB/s eta 0:00:00\n",
      "Downloading pillow-11.2.1-cp311-cp311-win_amd64.whl (2.7 MB)\n",
      "   ---------------------------------------- 0.0/2.7 MB ? eta -:--:--\n",
      "   ---------------------------------------  2.7/2.7 MB 85.9 MB/s eta 0:00:01\n",
      "   ---------------------------------------- 2.7/2.7 MB 56.7 MB/s eta 0:00:00\n",
      "Downloading pyparsing-3.2.3-py3-none-any.whl (111 kB)\n",
      "   ---------------------------------------- 0.0/111.1 kB ? eta -:--:--\n",
      "   ---------------------------------------- 111.1/111.1 kB ? eta 0:00:00\n",
      "Installing collected packages: pyparsing, pillow, numpy, kiwisolver, fonttools, cycler, contourpy, matplotlib\n",
      "Successfully installed contourpy-1.3.2 cycler-0.12.1 fonttools-4.57.0 kiwisolver-1.4.8 matplotlib-3.10.1 numpy-2.2.5 pillow-11.2.1 pyparsing-3.2.3\n"
     ]
    },
    {
     "name": "stderr",
     "output_type": "stream",
     "text": [
      "\n",
      "[notice] A new release of pip is available: 24.0 -> 25.0.1\n",
      "[notice] To update, run: C:\\Users\\User\\AppData\\Local\\Microsoft\\WindowsApps\\PythonSoftwareFoundation.Python.3.11_qbz5n2kfra8p0\\python.exe -m pip install --upgrade pip\n"
     ]
    }
   ],
   "source": [
    "!pip install matplotlib"
   ]
  },
  {
   "cell_type": "code",
   "execution_count": 44,
   "id": "ae39d9db",
   "metadata": {},
   "outputs": [
    {
     "data": {
      "image/png": "[encoded data removed]",
      "text/plain": [
       "<Figure size 640x480 with 1 Axes>"
      ]
     },
     "metadata": {},
     "output_type": "display_data"
    }
   ],
   "source": [
    "import psycopg2\n",
    "import matplotlib.pyplot as plt\n",
    "\n",
    "conn = psycopg2.connect(\n",
    "    user=\"postgres\",\n",
    "    password=\"nekit\", \n",
    "    host=\"localhost\",\n",
    "    database=\"super_medical\"\n",
    ")\n",
    "\n",
    "with conn.cursor() as cur:\n",
    "    cur.execute(\"\"\"\n",
    "        SELECT patients.patient_name, COUNT(patients_visit.visit_id)\n",
    "        FROM patients \n",
    "        LEFT JOIN patients_visit ON patients.patient_id = patients_visit.patient_id\n",
    "        GROUP BY patients.patient_name\n",
    "    \"\"\")\n",
    "    names, counts = zip(*cur.fetchall())\n",
    "\n",
    "plt.bar(names, counts, color='blue')\n",
    "plt.title('Визиты пациентов')\n",
    "plt.xticks(rotation=45)\n",
    "plt.tight_layout()\n",
    "plt.show()\n",
    "\n",
    "conn.close()"
   ]
  }
 ],
 "metadata": {
  "kernelspec": {
   "display_name": "Python 3",
   "language": "python",
   "name": "python3"
  },
  "language_info": {
   "codemirror_mode": {
    "name": "ipython",
    "version": 3
   },
   "file_extension": ".py",
   "mimetype": "text/x-python",
   "name": "python",
   "nbconvert_exporter": "python",
   "pygments_lexer": "ipython3",
   "version": "3.11.9"
  }
 },
 "nbformat": 4,
 "nbformat_minor": 5
}
